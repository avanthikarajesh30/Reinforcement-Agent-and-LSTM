{
  "cells": [
    {
      "cell_type": "markdown",
      "metadata": {
        "id": "_c3u0MsBW_8O"
      },
      "source": [
        "20BAI1071\n",
        "VINITHI K"
      ]
    },
    {
      "cell_type": "code",
      "execution_count": null,
      "metadata": {
        "colab": {
          "base_uri": "https://localhost:8080/"
        },
        "id": "B8LAvLh9DHiY",
        "outputId": "ab629b6a-c962-4c3c-ea98-8532d7253168"
      },
      "outputs": [
        {
          "name": "stdout",
          "output_type": "stream",
          "text": [
            "Mounted at /content/drive\n"
          ]
        }
      ],
      "source": [
        "from google.colab import drive\n",
        "drive.mount('/content/drive')"
      ]
    },
    {
      "cell_type": "code",
      "execution_count": null,
      "metadata": {
        "id": "T9oNnCpWCFsZ"
      },
      "outputs": [],
      "source": [
        "import keras\n",
        "from keras.layers import LSTM, Dense, Dropout, Flatten\n",
        "from  keras.models import Sequential\n",
        "from keras.optimizers import Adam\n",
        "from keras.callbacks import EarlyStopping, ModelCheckpoint"
      ]
    },
    {
      "cell_type": "code",
      "execution_count": null,
      "metadata": {
        "id": "UST986dC4IGT"
      },
      "outputs": [],
      "source": [
        "import glob\n",
        "import numpy as np\n",
        "import librosa\n",
        "import random\n",
        "from sklearn.model_selection import train_test_split\n",
        "from sklearn.preprocessing import LabelBinarizer"
      ]
    },
    {
      "cell_type": "code",
      "execution_count": null,
      "metadata": {
        "colab": {
          "base_uri": "https://localhost:8080/"
        },
        "id": "h9eRUAuuD63J",
        "outputId": "45c7d818-7aca-4924-b361-c694d97728eb"
      },
      "outputs": [
        {
          "name": "stdout",
          "output_type": "stream",
          "text": [
            "Cloning into 'free-spoken-digit-dataset'...\n",
            "remote: Enumerating objects: 4182, done.\u001b[K\n",
            "remote: Counting objects: 100% (510/510), done.\u001b[K\n",
            "remote: Compressing objects: 100% (510/510), done.\u001b[K\n",
            "remote: Total 4182 (delta 2), reused 502 (delta 0), pack-reused 3672\u001b[K\n",
            "Receiving objects: 100% (4182/4182), 30.44 MiB | 30.24 MiB/s, done.\n",
            "Resolving deltas: 100% (79/79), done.\n"
          ]
        }
      ],
      "source": [
        "!git clone https://github.com/Jakobovski/free-spoken-digit-dataset.git"
      ]
    },
    {
      "cell_type": "code",
      "execution_count": null,
      "metadata": {
        "id": "1QuH9kMKEr5L"
      },
      "outputs": [],
      "source": [
        "SEED = 2017\n",
        "DATA_DIR = '/content/free-spoken-digit-dataset/recordings/'"
      ]
    },
    {
      "cell_type": "code",
      "execution_count": null,
      "metadata": {
        "colab": {
          "base_uri": "https://localhost:8080/"
        },
        "id": "hGiPi6L9LEnZ",
        "outputId": "1e5e77ab-fed0-4f8f-ec9d-afedc5a05153"
      },
      "outputs": [
        {
          "name": "stdout",
          "output_type": "stream",
          "text": [
            "# Training Examples: 2400\n",
            "# Validation Examples: 600\n"
          ]
        }
      ],
      "source": [
        "files = glob.glob(DATA_DIR + \"*.wav\")\n",
        "X_train, X_val = train_test_split(files, test_size = 0.2, random_state = SEED)\n",
        "\n",
        "print(\"# Training Examples: {}\".format(len(X_train)))\n",
        "print(\"# Validation Examples: {}\".format(len(X_val)))"
      ]
    },
    {
      "cell_type": "code",
      "execution_count": null,
      "metadata": {
        "colab": {
          "base_uri": "https://localhost:8080/"
        },
        "id": "Q0ek7nhbL6Vj",
        "outputId": "a81246dc-d7b0-4ffc-8e72-37f0f3b7d184"
      },
      "outputs": [
        {
          "name": "stdout",
          "output_type": "stream",
          "text": [
            "['yweweler', 'theo', 'lucas', 'jackson', 'george', 'nicolas']\n"
          ]
        }
      ],
      "source": [
        "labels = []\n",
        "\n",
        "for i in range(len(X_train)):\n",
        "  label = X_train[i].split(\"/\")[-1].split(\"_\")[1]\n",
        "  if label not in labels:\n",
        "    labels.append(label)\n",
        "print(labels)"
      ]
    },
    {
      "cell_type": "code",
      "execution_count": null,
      "metadata": {
        "id": "-gJLq52HO0kC"
      },
      "outputs": [],
      "source": [
        "label_binarizer = LabelBinarizer()\n",
        "label_binarizer.fit(list(set(labels)))\n",
        "\n",
        "def one_hot_encode(x): return label_binarizer.transform(x)"
      ]
    },
    {
      "cell_type": "code",
      "execution_count": null,
      "metadata": {
        "id": "5_cXjYjmPUWq"
      },
      "outputs": [],
      "source": [
        "n_features = 20\n",
        "max_length = 80\n",
        "n_classes = len(labels)"
      ]
    },
    {
      "cell_type": "code",
      "execution_count": null,
      "metadata": {
        "id": "j34i0gcvRmEg"
      },
      "outputs": [],
      "source": [
        "def batch_generator(data, batch_size=16):\n",
        "  while 1:\n",
        "    random.shuffle(data)\n",
        "    X, y = [], []\n",
        "    for i in range(batch_size):\n",
        "      wav = data[i]\n",
        "      wave, sr = librosa.load(wav, mono=True)\n",
        "      label = wav.split('/')[-1].split('_')[1]\n",
        "      y.append(label)\n",
        "      mfcc = librosa.feature.mfcc(wave, sr)\n",
        "      mfcc = np.pad(mfcc, ((0,0), (0, max_length-len(mfcc[0]))), mode='constant', constant_values=0)\n",
        "      X.append(np.array(mfcc))\n",
        "    yield np.array(X), np.array(one_hot_encode(y))\n"
      ]
    },
    {
      "cell_type": "code",
      "execution_count": null,
      "metadata": {
        "id": "Fm2bg8tdUF8o"
      },
      "outputs": [],
      "source": [
        "learning_rate = 0.001\n",
        "batch_size = 64\n",
        "n_epochs = 5\n",
        "dropout = 0.5\n",
        "\n",
        "input_shape = (n_features,max_length)\n",
        "steps_per_epoch = 10"
      ]
    },
    {
      "cell_type": "code",
      "execution_count": null,
      "metadata": {
        "id": "lufLVAh9Uja-"
      },
      "outputs": [],
      "source": [
        "model = Sequential()\n",
        "model.add(LSTM(256, return_sequences=True, input_shape=input_shape,\n",
        "dropout=dropout))\n",
        "model.add(Flatten())\n",
        "model.add(Dense(128, activation='relu'))\n",
        "model.add(Dropout(dropout))\n",
        "model.add(Dense(n_classes, activation='softmax'))"
      ]
    },
    {
      "cell_type": "code",
      "execution_count": null,
      "metadata": {
        "colab": {
          "base_uri": "https://localhost:8080/"
        },
        "id": "eLd0jR6tU0o4",
        "outputId": "b401e75c-1578-439d-d291-70830faf511d"
      },
      "outputs": [
        {
          "name": "stdout",
          "output_type": "stream",
          "text": [
            "Model: \"sequential_5\"\n",
            "_________________________________________________________________\n",
            "Layer (type)                 Output Shape              Param #   \n",
            "=================================================================\n",
            "lstm_5 (LSTM)                (None, 20, 256)           345088    \n",
            "_________________________________________________________________\n",
            "flatten_5 (Flatten)          (None, 5120)              0         \n",
            "_________________________________________________________________\n",
            "dense_10 (Dense)             (None, 128)               655488    \n",
            "_________________________________________________________________\n",
            "dropout_5 (Dropout)          (None, 128)               0         \n",
            "_________________________________________________________________\n",
            "dense_11 (Dense)             (None, 6)                 774       \n",
            "=================================================================\n",
            "Total params: 1,001,350\n",
            "Trainable params: 1,001,350\n",
            "Non-trainable params: 0\n",
            "_________________________________________________________________\n"
          ]
        }
      ],
      "source": [
        "opt = Adam(lr=learning_rate)\n",
        "model.compile(loss='categorical_crossentropy', optimizer=opt, metrics=['accuracy'])\n",
        "model.summary()"
      ]
    },
    {
      "cell_type": "code",
      "execution_count": null,
      "metadata": {
        "colab": {
          "base_uri": "https://localhost:8080/"
        },
        "id": "VZDHLzr_qP90",
        "outputId": "4228d4c7-73b4-45ab-c228-5889f316a686"
      },
      "outputs": [
        {
          "name": "stdout",
          "output_type": "stream",
          "text": [
            "Requirement already satisfied: h5py in /usr/local/lib/python3.7/dist-packages (2.10.0)\n",
            "Requirement already satisfied: numpy>=1.7 in /usr/local/lib/python3.7/dist-packages (from h5py) (1.19.5)\n",
            "Requirement already satisfied: six in /usr/local/lib/python3.7/dist-packages (from h5py) (1.15.0)\n"
          ]
        }
      ],
      "source": [
        "!pip install h5py"
      ]
    },
    {
      "cell_type": "code",
      "execution_count": null,
      "metadata": {
        "colab": {
          "base_uri": "https://localhost:8080/"
        },
        "id": "8D7T515tVHvW",
        "outputId": "0975b86d-cdf6-494d-866b-4fd2f7e310b8"
      },
      "outputs": [
        {
          "name": "stderr",
          "output_type": "stream",
          "text": [
            "/usr/local/lib/python3.7/dist-packages/tensorflow/python/keras/engine/training.py:1844: UserWarning: `Model.fit_generator` is deprecated and will be removed in a future version. Please use `Model.fit`, which supports generators.\n",
            "  warnings.warn('`Model.fit_generator` is deprecated and '\n"
          ]
        },
        {
          "name": "stdout",
          "output_type": "stream",
          "text": [
            "Epoch 1/5\n",
            "10/10 [==============================] - 30s 3s/step - loss: 0.2660 - accuracy: 0.9031 - val_loss: 0.2954 - val_accuracy: 0.9250\n",
            "Epoch 2/5\n",
            "10/10 [==============================] - 30s 3s/step - loss: 0.2848 - accuracy: 0.8953 - val_loss: 0.2381 - val_accuracy: 0.9187\n",
            "Epoch 3/5\n",
            "10/10 [==============================] - 29s 3s/step - loss: 0.2784 - accuracy: 0.9047 - val_loss: 0.2201 - val_accuracy: 0.9500\n",
            "Epoch 4/5\n",
            "10/10 [==============================] - 29s 3s/step - loss: 0.2484 - accuracy: 0.9203 - val_loss: 0.1978 - val_accuracy: 0.9563\n",
            "Epoch 5/5\n",
            "10/10 [==============================] - 29s 3s/step - loss: 0.2516 - accuracy: 0.9047 - val_loss: 0.1286 - val_accuracy: 0.9750\n"
          ]
        }
      ],
      "source": [
        "history = model.fit_generator(\n",
        "    generator = batch_generator(X_train, batch_size),\n",
        "    steps_per_epoch = steps_per_epoch,\n",
        "    epochs = n_epochs,\n",
        "    verbose = 1,\n",
        "    validation_data = batch_generator(X_val,32),\n",
        "    validation_steps = 5,\n",
        "    callbacks = callbacks\n",
        ")"
      ]
    },
    {
      "cell_type": "code",
      "execution_count": null,
      "metadata": {
        "id": "KoEAKAKrbsOr"
      },
      "outputs": [],
      "source": [
        "def testSample(filename,model):\n",
        "  print(filename)\n",
        "  max_length = 80\n",
        "  wave, sr = librosa.load(filename, mono=True)\n",
        "  mfcc = librosa.feature.mfcc(wave, sr)\n",
        "  if(len(mfcc[0]) < 60 ):\n",
        "    mfcc = np.pad(mfcc, ((0,0), (0, max_length-len(mfcc[0]))), mode='constant', constant_values=0)\n",
        "    X = np.array([np.array(mfcc)])\n",
        "    label = filename.split('/')[-1].split('_')[1]\n",
        "    pred = model.predict(X)\n",
        "    pred = np.round(pred,decimals=1)\n",
        "    pred = label_binarizer.inverse_transform(pred)\n",
        "    print(\"Actual Label: \",label)\n",
        "    print(\"Predicted Label: \",pred)\n",
        "  else:\n",
        "    print(\"Incompatible Audio\")"
      ]
    },
    {
      "cell_type": "code",
      "execution_count": null,
      "metadata": {
        "colab": {
          "base_uri": "https://localhost:8080/"
        },
        "id": "hL8zSfsYcbXf",
        "outputId": "7be20766-6f4c-4a8b-dd9c-92466f047ddc"
      },
      "outputs": [
        {
          "name": "stdout",
          "output_type": "stream",
          "text": [
            "/content/free-spoken-digit-dataset/recordings/0_jackson_19.wav\n",
            "Actual Label:  jackson\n",
            "Predicted Label:  ['jackson']\n"
          ]
        }
      ],
      "source": [
        "testSample(files[600],model)"
      ]
    },
    {
      "cell_type": "code",
      "execution_count": null,
      "metadata": {
        "colab": {
          "base_uri": "https://localhost:8080/"
        },
        "id": "4-EzfO0Dc5Pf",
        "outputId": "92ae6167-3121-4820-97b7-76878133da4e"
      },
      "outputs": [
        {
          "name": "stdout",
          "output_type": "stream",
          "text": [
            "Current Data count Processed:  100\n",
            "Current Data count Processed:  200\n",
            "Current Data count Processed:  300\n",
            "Current Data count Processed:  400\n",
            "Current Data count Processed:  500\n",
            "Current Data count Processed:  600\n",
            "Current Data count Processed:  700\n",
            "Current Data count Processed:  800\n",
            "Current Data count Processed:  900\n",
            "Current Data count Processed:  1000\n",
            "Current Data count Processed:  1100\n",
            "Current Data count Processed:  1200\n",
            "Current Data count Processed:  1300\n",
            "Current Data count Processed:  1400\n",
            "Current Data count Processed:  1500\n",
            "Current Data count Processed:  1600\n",
            "Current Data count Processed:  1700\n",
            "Current Data count Processed:  1800\n",
            "Current Data count Processed:  1900\n",
            "Current Data count Processed:  2000\n",
            "Current Data count Processed:  2100\n",
            "Current Data count Processed:  2200\n",
            "Current Data count Processed:  2300\n",
            "Current Data count Processed:  2400\n",
            "Current Data count Processed:  2500\n",
            "Current Data count Processed:  2600\n",
            "Current Data count Processed:  2700\n",
            "Current Data count Processed:  2800\n",
            "Current Data count Processed:  2900\n"
          ]
        }
      ],
      "source": [
        "random.shuffle(files)\n",
        "X, y = [], []\n",
        "checkpoint = 0\n",
        "for i in range(len(files)):\n",
        "    wav = files[i]\n",
        "    wave, sr = librosa.load(wav, mono=True)\n",
        "    mfcc = librosa.feature.mfcc(wave, sr)\n",
        "    if(len(mfcc[0]) < 80 ):\n",
        "      mfcc = np.pad(mfcc, ((0,0), (0, max_length-len(mfcc[0]))), mode='constant', constant_values=0)\n",
        "      X.append(np.array(mfcc))\n",
        "      label = wav.split('/')[-1].split('_')[1]\n",
        "      y.append(label)\n",
        "      checkpoint+=1\n",
        "    if(checkpoint%100 ==0):\n",
        "      print(\"Current Data count Processed: \",checkpoint)"
      ]
    },
    {
      "cell_type": "code",
      "execution_count": null,
      "metadata": {
        "colab": {
          "base_uri": "https://localhost:8080/"
        },
        "id": "ApAWmoqgMVwt",
        "outputId": "b9433020-acda-4bb4-dbbd-a83a47257181"
      },
      "outputs": [
        {
          "name": "stdout",
          "output_type": "stream",
          "text": [
            "Cloning into 'spoken-digit-recognition'...\n",
            "remote: Enumerating objects: 1588, done.\u001b[K\n",
            "remote: Total 1588 (delta 0), reused 0 (delta 0), pack-reused 1588\u001b[K\n",
            "Receiving objects: 100% (1588/1588), 7.07 MiB | 29.93 MiB/s, done.\n",
            "Resolving deltas: 100% (47/47), done.\n"
          ]
        }
      ],
      "source": [
        "!git clone https://github.com/Ralireza/spoken-digit-recognition.git"
      ]
    },
    {
      "cell_type": "code",
      "execution_count": null,
      "metadata": {
        "id": "dretTER14afE"
      },
      "outputs": [],
      "source": [
        "import glob\n",
        "import numpy as np\n",
        "import librosa\n",
        "import random\n",
        "from sklearn.model_selection import train_test_split\n",
        "from sklearn.preprocessing import LabelBinarizer"
      ]
    },
    {
      "cell_type": "code",
      "execution_count": null,
      "metadata": {
        "colab": {
          "base_uri": "https://localhost:8080/",
          "height": 1000
        },
        "id": "2i34XRHyhj2q",
        "outputId": "fff6e46d-35f2-456b-b270-b4d94df93c91"
      },
      "outputs": [
        {
          "name": "stderr",
          "output_type": "stream",
          "text": [
            "/usr/local/lib/python3.7/dist-packages/ipykernel_launcher.py:37: WavFileWarning: Chunk (non-data) not understood, skipping it.\n"
          ]
        },
        {
          "name": "stdout",
          "output_type": "stream",
          "text": [
            "confusion_matrix:\n",
            "\n",
            " [[30  0  0  0  0  0  0  0  0  0]\n",
            " [ 0 30  0  0  0  0  0  0  0  0]\n",
            " [ 0  0 30  0  0  0  0  0  0  0]\n",
            " [ 0  0  0 27  0  0  0  3  0  0]\n",
            " [ 0  1  0  0 29  0  0  0  0  0]\n",
            " [ 0  0  0  0  0 29  0  0  0  1]\n",
            " [ 0  0  0  0  0  0 30  0  0  0]\n",
            " [ 0  0  0  0  0  0  0 29  0  1]\n",
            " [ 0  0  0  0  0  0  0  0 30  0]\n",
            " [ 0  0  0  0  0  0  0  0  0 30]]\n",
            "----------------------------------------------------------\n",
            "----------------------------------------------------------\n",
            "\n",
            "classification_report:\n",
            "\n",
            "               precision    recall  f1-score   support\n",
            "\n",
            "           0       1.00      1.00      1.00        30\n",
            "           1       0.97      1.00      0.98        30\n",
            "           2       1.00      1.00      1.00        30\n",
            "           3       1.00      0.90      0.95        30\n",
            "           4       1.00      0.97      0.98        30\n",
            "           5       1.00      0.97      0.98        30\n",
            "           6       1.00      1.00      1.00        30\n",
            "           7       0.91      0.97      0.94        30\n",
            "           8       1.00      1.00      1.00        30\n",
            "           9       0.94      1.00      0.97        30\n",
            "\n",
            "    accuracy                           0.98       300\n",
            "   macro avg       0.98      0.98      0.98       300\n",
            "weighted avg       0.98      0.98      0.98       300\n",
            "\n",
            "----------------------------------------------------------\n",
            "----------------------------------------------------------\n",
            "\n",
            "Accuracy: 0.98\n",
            "----------------------------------------------------------\n",
            "----------------------------------------------------------\n",
            "\n"
          ]
        },
        {
          "data": {
            "image/png": "[encoded data removed]",
            "text/plain": [
              "<Figure size 432x288 with 2 Axes>"
            ]
          },
          "metadata": {
            "needs_background": "light",
            "tags": []
          },
          "output_type": "display_data"
        },
        {
          "name": "stdout",
          "output_type": "stream",
          "text": [
            "\n",
            "\n",
            "predicted spoken digit for a person:  [0]\n"
          ]
        }
      ],
      "source": [
        "def build_dataset(sound_path='/content/spoken-digit-recognition/spoken_digit/'):\n",
        "    files = sorted(os.listdir(sound_path))\n",
        "    x_train = []\n",
        "    y_train = []\n",
        "    x_test = []\n",
        "    y_test = []\n",
        "    data = dict()\n",
        "    i = 0\n",
        "\n",
        "    for f in files:\n",
        "        feature = feature_extractor(sound_path=sound_path + f)\n",
        "        if i % 5 == 0:\n",
        "            x_test.append(feature)\n",
        "            y_test.append(int(f[0]))\n",
        "        else:\n",
        "            x_train.append(feature)\n",
        "            y_train.append(f[0])\n",
        "        i += 1\n",
        "\n",
        "    for i in range(0, len(x_train), len(x_train) // 10):\n",
        "        data[y_train[i]] = x_train[i:i + len(x_train) // 10]\n",
        "    return x_train, y_train, x_test, y_test, data\n",
        "\n",
        "\n",
        "def feature_extractor(sound_path):\n",
        "    sampling_freq, audio = wavfile.read(sound_path)\n",
        "    mfcc_features = mfcc(audio, sampling_freq)\n",
        "\n",
        "    return mfcc_features\n",
        "\n",
        "\n",
        "def train_model(data):\n",
        "    learned_hmm = dict()\n",
        "    for label in data.keys():\n",
        "        model = hmm.GMMHMM(n_components=14)\n",
        "        feature = np.ndarray(shape=(1, 13))\n",
        "        for list_feature in data[label]:\n",
        "            feature = np.vstack((feature, list_feature))\n",
        "        obj = model.fit(feature)\n",
        "        learned_hmm[label] = obj\n",
        "    return learned_hmm\n",
        "\n",
        "\n",
        "def prediction(test_data, trained):\n",
        "    # predict list of test\n",
        "    predict_label = []\n",
        "    if type(test_data) == type([]):\n",
        "        for test in test_data:\n",
        "            scores = []\n",
        "            for node in trained.keys():\n",
        "                scores.append(trained[node].score(test))\n",
        "            predict_label.append(scores.index(max(scores)))\n",
        "    # predict a test\n",
        "    else:\n",
        "        scores = []\n",
        "        for node in trained.keys():\n",
        "            scores.append(trained[node].score(test_data))\n",
        "        predict_label.append(scores.index(max(scores)))\n",
        "    return predict_label\n",
        "\n",
        "\n",
        "def plot_confusion_matrix(cm, classes,\n",
        "                          normalize=False,\n",
        "                          title='Confusion matrix',\n",
        "                          cmap=plt.cm.Blues):\n",
        "    plt.imshow(cm, interpolation='nearest', cmap=cmap)\n",
        "    plt.title(title)\n",
        "    plt.colorbar()\n",
        "    tick_marks = np.arange(len(classes))\n",
        "    plt.xticks(tick_marks, classes, rotation=45)\n",
        "    plt.yticks(tick_marks, classes)\n",
        "\n",
        "    fmt = '.2f' if normalize else 'd'\n",
        "    thresh = cm.max() / 2.\n",
        "    for i, j in itertools.product(range(cm.shape[0]), range(cm.shape[1])):\n",
        "        plt.text(j, i, format(cm[i, j], fmt),\n",
        "                 horizontalalignment=\"center\",\n",
        "                 color=\"white\" if cm[i, j] > thresh else \"black\")\n",
        "\n",
        "    plt.tight_layout()\n",
        "    plt.ylabel('True label')\n",
        "    plt.xlabel('Predicted label')\n",
        "    plt.show()\n",
        "\n",
        "\n",
        "def report(y_test, y_pred, show_cm=True):\n",
        "    print(\"confusion_matrix:\\n\\n\", confusion_matrix(y_test, y_pred))\n",
        "    print(\"----------------------------------------------------------\")\n",
        "    print(\"----------------------------------------------------------\\n\")\n",
        "    print(\"classification_report:\\n\\n\", classification_report(y_test, y_pred))\n",
        "    print(\"----------------------------------------------------------\")\n",
        "    print(\"----------------------------------------------------------\\n\")\n",
        "    print(\"Accuracy:\", accuracy_score(y_test, y_pred))\n",
        "    print(\"----------------------------------------------------------\")\n",
        "    print(\"----------------------------------------------------------\\n\")\n",
        "    if show_cm:\n",
        "        plot_confusion_matrix(confusion_matrix(y_test, y_pred), [0, 1, 2, 3, 4, 5, 6, 7, 8, 9])\n",
        "\n",
        "\n",
        "x_train, y_train, x_test, y_test, data = build_dataset()\n",
        "with open(\"/content/spoken-digit-recognition/learned.pkl\", \"rb\") as file:\n",
        "    learned_hmm = pickle.load(file)\n",
        "single_test = feature_extractor('/content/spoken-digit-recognition/spoken_digit/0_jackson_19.wav')\n",
        "\n",
        "\n",
        "y_pred = prediction(x_test, learned_hmm)\n",
        "report(y_test, y_pred, show_cm=True)\n",
        "y_pred_final = prediction(single_test, learned_hmm)\n",
        "print(\"\\n\")\n",
        "print(\"predicted spoken digit for a person: \",y_pred_final)"
      ]
    }
  ],
  "metadata": {
    "accelerator": "GPU",
    "colab": {
      "provenance": []
    },
    "kernelspec": {
      "display_name": "Python 3",
      "name": "python3"
    },
    "language_info": {
      "name": "python"
    }
  },
  "nbformat": 4,
  "nbformat_minor": 0
}